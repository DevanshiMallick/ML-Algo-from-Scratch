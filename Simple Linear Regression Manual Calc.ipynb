{
 "cells": [
  {
   "cell_type": "markdown",
   "id": "4bc61839",
   "metadata": {},
   "source": [
    "Importing Packages"
   ]
  },
  {
   "cell_type": "code",
   "execution_count": 5,
   "id": "410440a4",
   "metadata": {},
   "outputs": [],
   "source": [
    "import matplotlib.pyplot as plt\n",
    "import numpy as np\n",
    "import pandas as pd"
   ]
  },
  {
   "cell_type": "markdown",
   "id": "0f577fbe",
   "metadata": {},
   "source": [
    "Linear Regression Random Array"
   ]
  },
  {
   "cell_type": "code",
   "execution_count": 45,
   "id": "f1aa8219",
   "metadata": {},
   "outputs": [],
   "source": [
    "#USD functions\n",
    "def find_B0_B1(x,y):\n",
    "    n=len(x)\n",
    "    \n",
    "    mean_x= sum(x)/n\n",
    "    mean_y=sum(y)/n\n",
    "    \n",
    "    SS_xy=sum(x*y)-n*mean_x*mean_y\n",
    "    SS_xx=sum(x*x)-n*mean_x*mean_x\n",
    "    \n",
    "    b_1=SS_xy/SS_xx\n",
    "    b_0=mean_y-mean_x*b_1\n",
    "    \n",
    "    return b_1,b_0\n",
    "\n",
    "def y_predicted(x,y):\n",
    "    b_1,b_0=find_B0_B1(x,y)\n",
    "    y_pred=b_0+b_1*x\n",
    "    \n",
    "    return y_pred\n",
    "    \n",
    "def plotting_graph(x,y):\n",
    "    plt.scatter(x,y,color=\"r\") #scatter plot for the dataset\n",
    "    \n",
    "    y_pred=y_predicted(x,y)\n",
    "    plt.plot(x,y_pred) #plotting the predicted line\n",
    "    \n",
    "    plt.title(\"Simple Linear Regression\")\n",
    "    plt.xlabel(\"X values\")\n",
    "    plt.ylabel(\"Y Values\")\n",
    "    \n",
    "    plt.show()\n",
    "    \n",
    "def find_SST():\n",
    "    y_mean=sum(y)/len(y)\n",
    "    SST_value=sum((y-y_mean)**2)\n",
    "    \n",
    "    return SST_value\n",
    "    \n",
    "def find_SSR():\n",
    "    y_mean=sum(y)/len(y)\n",
    "    y_pred=y_predicted(x,y)\n",
    "    SSR_value=sum((y_pred-y_mean)**2)\n",
    "    \n",
    "    return SSR_value\n",
    "\n",
    "def find_SSE():\n",
    "    y_pred=y_predicted(x,y)\n",
    "    SSE_value=sum((y-y_pred)**2)\n",
    "    \n",
    "    return SSE_value\n",
    "\n",
    "def find_R():\n",
    "    SSR=find_SSR()\n",
    "    SST=find_SST()\n",
    "    r=SSR/SST\n",
    "    \n",
    "    return r\n",
    "\n",
    "def find_VIF():\n",
    "    r=find_R()\n",
    "    VIF_val=1/(1-r)\n",
    "    \n",
    "    return VIF_val"
   ]
  },
  {
   "cell_type": "code",
   "execution_count": 23,
   "id": "671101d5",
   "metadata": {},
   "outputs": [
    {
     "data": {
      "text/plain": [
       "array([0, 1, 2, 3, 4, 5, 6, 7, 8, 9])"
      ]
     },
     "execution_count": 23,
     "metadata": {},
     "output_type": "execute_result"
    }
   ],
   "source": [
    "x = np.array([0,1,2,3,4,5,6,7,8,9])\n",
    "x"
   ]
  },
  {
   "cell_type": "code",
   "execution_count": 24,
   "id": "15f3e21b",
   "metadata": {},
   "outputs": [
    {
     "data": {
      "text/plain": [
       "array([ 3,  4,  6,  2,  7, 18, 23, 12, 13, 16])"
      ]
     },
     "execution_count": 24,
     "metadata": {},
     "output_type": "execute_result"
    }
   ],
   "source": [
    "y = np.array([3,4,6,2,7,18,23,12,13,16])\n",
    "y"
   ]
  },
  {
   "cell_type": "code",
   "execution_count": 13,
   "id": "a584141d",
   "metadata": {},
   "outputs": [
    {
     "name": "stdout",
     "output_type": "stream",
     "text": [
      "Intercept is:  2.654545454545455\n",
      "Slope is:  1.7212121212121212\n"
     ]
    }
   ],
   "source": [
    "b_1,b_0=find_B0_B1(X,Y)\n",
    "print(\"Intercept is: \",b_0)\n",
    "print(\"Slope is: \",b_1)"
   ]
  },
  {
   "cell_type": "code",
   "execution_count": 27,
   "id": "c09a8b7f",
   "metadata": {},
   "outputs": [
    {
     "name": "stdout",
     "output_type": "stream",
     "text": [
      "the predicted value of Y is:  [ 2.65454545  4.37575758  6.0969697   7.81818182  9.53939394 11.26060606\n",
      " 12.98181818 14.7030303  16.42424242 18.14545455]\n"
     ]
    }
   ],
   "source": [
    "y_pred=y_predicted(x,y)\n",
    "print(\"the predicted value of Y is: \",y_pred)"
   ]
  },
  {
   "cell_type": "code",
   "execution_count": 34,
   "id": "0706b3be",
   "metadata": {},
   "outputs": [
    {
     "data": {
      "image/png": "[encoded data removed]",
      "text/plain": [
       "<Figure size 432x288 with 1 Axes>"
      ]
     },
     "metadata": {
      "needs_background": "light"
     },
     "output_type": "display_data"
    }
   ],
   "source": [
    "plotting_graph(x,y)"
   ]
  },
  {
   "cell_type": "code",
   "execution_count": 41,
   "id": "90f63452",
   "metadata": {},
   "outputs": [
    {
     "name": "stdout",
     "output_type": "stream",
     "text": [
      "Value of SSR:  244.41212121212118\n",
      "Value of SSE:  209.98787878787877\n",
      "Value of SST:  454.40000000000003\n"
     ]
    }
   ],
   "source": [
    "SSR_value=find_SSR()\n",
    "SSE_value=find_SSE()\n",
    "SST_value=find_SST()\n",
    "\n",
    "print(\"Value of SSR: \",SSR_value)\n",
    "print(\"Value of SSE: \",SSE_value)\n",
    "print(\"Value of SST: \",SST_value)"
   ]
  },
  {
   "cell_type": "code",
   "execution_count": 43,
   "id": "d7525265",
   "metadata": {},
   "outputs": [
    {
     "name": "stdout",
     "output_type": "stream",
     "text": [
      "Value of coefficient of Determinant (R) is:  0.5378787878787877\n"
     ]
    }
   ],
   "source": [
    "r=find_R()\n",
    "print(\"Value of coefficient of Determinant (R) is: \",r)"
   ]
  },
  {
   "cell_type": "code",
   "execution_count": 46,
   "id": "e9276f11",
   "metadata": {},
   "outputs": [
    {
     "name": "stdout",
     "output_type": "stream",
     "text": [
      "Value of VIF is:  2.1639344262295075\n"
     ]
    }
   ],
   "source": [
    "VIF_val=find_VIF()\n",
    "print(\"Value of VIF is: \",VIF_val)"
   ]
  },
  {
   "cell_type": "code",
   "execution_count": null,
   "id": "3fc8aafe",
   "metadata": {},
   "outputs": [],
   "source": []
  }
 ],
 "metadata": {
  "kernelspec": {
   "display_name": "Python 3 (ipykernel)",
   "language": "python",
   "name": "python3"
  },
  "language_info": {
   "codemirror_mode": {
    "name": "ipython",
    "version": 3
   },
   "file_extension": ".py",
   "mimetype": "text/x-python",
   "name": "python",
   "nbconvert_exporter": "python",
   "pygments_lexer": "ipython3",
   "version": "3.9.12"
  }
 },
 "nbformat": 4,
 "nbformat_minor": 5
}
