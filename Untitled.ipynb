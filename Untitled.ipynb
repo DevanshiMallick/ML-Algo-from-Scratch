{
 "cells": [
  {
   "cell_type": "markdown",
   "id": "2f91578a",
   "metadata": {},
   "source": [
    "Importing Packages"
   ]
  },
  {
   "cell_type": "code",
   "execution_count": 5,
   "id": "58ea0839",
   "metadata": {},
   "outputs": [],
   "source": [
    "import matplotlib.pyplot as plt\n",
    "import numpy as np\n",
    "import pandas as pd"
   ]
  },
  {
   "cell_type": "markdown",
   "id": "67dd8dda",
   "metadata": {},
   "source": [
    "Linear Regression Random Array"
   ]
  },
  {
   "cell_type": "code",
   "execution_count": 10,
   "id": "6b61204c",
   "metadata": {},
   "outputs": [],
   "source": [
    "#USD functions\n",
    "def find_B0_B1(x,y):\n",
    "    n=len(x)\n",
    "    \n",
    "    mean_x= sum(x)/n\n",
    "    mean_y=sum(y)/n\n",
    "    \n",
    "    SS_xy=sum(x*y)-n*mean_x*mean_y\n",
    "    SS_xx=sum(x*x)-n*mean_x*mean_x\n",
    "    \n",
    "    b_1=SS_xy/SS_xx\n",
    "    b_0=mean_y-mean_x*b_1\n",
    "    \n",
    "    return b_1,b_0\n",
    "\n",
    "def y_predicted(b_0,b_1,x,y):\n",
    "    y=b_0+b_1*x\n",
    "    \n",
    "def plotting_graph(x,y):\n",
    "    plt.scatter(x,y,colour=\"red\") #scatter plot for the dataset\n",
    "    \n",
    "    plt.plot(x,y_pred)\n",
    "    "
   ]
  },
  {
   "cell_type": "code",
   "execution_count": 6,
   "id": "e59f5359",
   "metadata": {},
   "outputs": [
    {
     "data": {
      "text/plain": [
       "array([ 3,  4,  6,  2,  7, 18, 23, 12, 13, 16])"
      ]
     },
     "execution_count": 6,
     "metadata": {},
     "output_type": "execute_result"
    }
   ],
   "source": [
    "X = np.array([0,1,2,3,4,5,6,7,8,9])\n",
    "X"
   ]
  },
  {
   "cell_type": "code",
   "execution_count": 8,
   "id": "41751a76",
   "metadata": {},
   "outputs": [
    {
     "data": {
      "text/plain": [
       "array([ 3,  4,  6,  2,  7, 18, 23, 12, 13, 16])"
      ]
     },
     "execution_count": 8,
     "metadata": {},
     "output_type": "execute_result"
    }
   ],
   "source": [
    "Y = np.array([3,4,6,2,7,18,23,12,13,16])\n",
    "Y"
   ]
  },
  {
   "cell_type": "code",
   "execution_count": 13,
   "id": "d5035891",
   "metadata": {},
   "outputs": [
    {
     "name": "stdout",
     "output_type": "stream",
     "text": [
      "Intercept is:  2.654545454545455\n",
      "Slope is:  1.7212121212121212\n"
     ]
    }
   ],
   "source": [
    "b_1,b_0=find_B0_B1(X,Y)\n",
    "print(\"Intercept is: \",b_0)\n",
    "print(\"Slope is: \",b_1)"
   ]
  },
  {
   "cell_type": "code",
   "execution_count": null,
   "id": "1125a4bc",
   "metadata": {},
   "outputs": [],
   "source": []
  }
 ],
 "metadata": {
  "kernelspec": {
   "display_name": "Python 3 (ipykernel)",
   "language": "python",
   "name": "python3"
  },
  "language_info": {
   "codemirror_mode": {
    "name": "ipython",
    "version": 3
   },
   "file_extension": ".py",
   "mimetype": "text/x-python",
   "name": "python",
   "nbconvert_exporter": "python",
   "pygments_lexer": "ipython3",
   "version": "3.9.12"
  }
 },
 "nbformat": 4,
 "nbformat_minor": 5
}
