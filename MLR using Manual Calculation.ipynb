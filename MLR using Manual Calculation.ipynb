{
 "cells": [
  {
   "cell_type": "markdown",
   "id": "7536c9dd",
   "metadata": {},
   "source": [
    "# Importing Packages"
   ]
  },
  {
   "cell_type": "code",
   "execution_count": 49,
   "id": "7ebe1a32",
   "metadata": {},
   "outputs": [],
   "source": [
    "import pandas as pd\n",
    "import numpy as np\n",
    "import matplotlib.pyplot as plt"
   ]
  },
  {
   "cell_type": "markdown",
   "id": "684b5ccc",
   "metadata": {},
   "source": [
    "# Importing Dataset"
   ]
  },
  {
   "cell_type": "code",
   "execution_count": 36,
   "id": "f3fc3fa2",
   "metadata": {},
   "outputs": [],
   "source": [
    "data = pd.read_csv('50_Startups.csv')\n",
    "x1 = data['Administration'].values\n",
    "x2 = data['Marketing Spend'].values\n",
    "y = data['Profit'].values\n",
    "#either way it works\n",
    "#x1 = data.iloc[:,1].values\n",
    "#x2 = data.iloc[:,2].values\n",
    "#y = data.iloc[:,-1].values"
   ]
  },
  {
   "cell_type": "markdown",
   "id": "7693532b",
   "metadata": {},
   "source": [
    "# User Defined Functions"
   ]
  },
  {
   "cell_type": "code",
   "execution_count": 37,
   "id": "d4a5834f",
   "metadata": {},
   "outputs": [],
   "source": [
    "def findmean(x1):\n",
    "    print(sum(x1))\n",
    "    print(len(x1))\n",
    "    mean = sum(x1)/len(x1)\n",
    "    return mean"
   ]
  },
  {
   "cell_type": "code",
   "execution_count": 38,
   "id": "58a83337",
   "metadata": {},
   "outputs": [],
   "source": [
    "def find_slope_intercepts(x1,x2,y,x1_mean,x2_mean,y_mean):\n",
    "    ssx1 = sum(x1*x1) - ((sum(x1)*sum(x1))/len(x1))\n",
    "    ssx2=sum(x2*x2)-((sum(x2)*sum(x2))/len(x2))\n",
    "    sumx1y=sum(x1*y)-((sum(x1)*sum(y))/len(x1))\n",
    "    sumx2y=sum(x2*y)-((sum(x2)*sum(y))/len(x2))\n",
    "    sumx1x2=sum(x1*x2)-((sum(x1)*sum(x2))/len(x2))\n",
    "    b1=(((ssx2)*(sumx1y)-(sumx1x2)*(sumx1y))/((ssx1)*(ssx2)-((sumx1x2)**2)))\n",
    "    b2=(((ssx1)*(sumx2y)-(sumx1x2)*(sumx1y))/((ssx2)*(ssx1)-((sumx1x2)**2)))\n",
    "    b0= y_mean-b1*x1_mean-b2*x2_mean\n",
    "    return b0,b1,b2\n",
    "    "
   ]
  },
  {
   "cell_type": "code",
   "execution_count": 39,
   "id": "d6a1bfc5",
   "metadata": {},
   "outputs": [
    {
     "data": {
      "text/plain": [
       "array([136897.8 , 151377.59, 101145.55, 118671.85,  91391.77,  99814.71,\n",
       "       147198.87, 145530.06, 148718.95, 108679.17, 110594.11,  91790.61,\n",
       "       127320.38, 135495.07, 156547.42, 122616.84, 121597.55, 145077.58,\n",
       "       114175.79, 153514.11, 113867.3 , 153773.43, 122782.75, 105751.03,\n",
       "        99281.34, 139553.16, 144135.98, 127864.55, 182645.56, 153032.06,\n",
       "       115641.28, 152701.92, 129219.61, 103057.49, 157693.92,  85047.44,\n",
       "       127056.21,  51283.14,  65947.93,  82982.09, 118546.05,  84710.77,\n",
       "        96189.63, 127382.3 , 154806.14, 124153.04, 115816.21, 135426.92,\n",
       "        51743.15, 116983.8 ])"
      ]
     },
     "execution_count": 39,
     "metadata": {},
     "output_type": "execute_result"
    }
   ],
   "source": [
    "x1"
   ]
  },
  {
   "cell_type": "code",
   "execution_count": 40,
   "id": "ec72caeb",
   "metadata": {},
   "outputs": [
    {
     "data": {
      "text/plain": [
       "array([471784.1 , 443898.53, 407934.54, 383199.62, 366168.42, 362861.36,\n",
       "       127716.82, 323876.68, 311613.29, 304981.62, 229160.95, 249744.55,\n",
       "       249839.44, 252664.93, 256512.92, 261776.23, 264346.06, 282574.31,\n",
       "       294919.57,      0.  , 298664.47, 299737.29, 303319.26, 304768.73,\n",
       "       140574.81, 137962.62, 134050.07, 353183.81, 118148.2 , 107138.38,\n",
       "        91131.24,  88218.23,  46085.25, 214634.81, 210797.67, 205517.64,\n",
       "       201126.82, 197029.42, 185265.1 , 174999.3 , 172795.67, 164470.71,\n",
       "       148001.11,  35534.17,  28334.72,   1903.93, 297114.46,      0.  ,\n",
       "            0.  ,  45173.06])"
      ]
     },
     "execution_count": 40,
     "metadata": {},
     "output_type": "execute_result"
    }
   ],
   "source": [
    "x2"
   ]
  },
  {
   "cell_type": "code",
   "execution_count": 10,
   "id": "57661f30",
   "metadata": {},
   "outputs": [
    {
     "data": {
      "text/plain": [
       "array([192261.83, 191792.06, 191050.39, 182901.99, 166187.94, 156991.12,\n",
       "       156122.51, 155752.6 , 152211.77, 149759.96, 146121.95, 144259.4 ,\n",
       "       141585.52, 134307.35, 132602.65, 129917.04, 126992.93, 125370.37,\n",
       "       124266.9 , 122776.86, 118474.03, 111313.02, 110352.25, 108733.99,\n",
       "       108552.04, 107404.34, 105733.54, 105008.31, 103282.38, 101004.64,\n",
       "        99937.59,  97483.56,  97427.84,  96778.92,  96712.8 ,  96479.51,\n",
       "        90708.19,  89949.14,  81229.06,  81005.76,  78239.91,  77798.83,\n",
       "        71498.49,  69758.98,  65200.33,  64926.08,  49490.75,  42559.73,\n",
       "        35673.41,  14681.4 ])"
      ]
     },
     "execution_count": 10,
     "metadata": {},
     "output_type": "execute_result"
    }
   ],
   "source": [
    "y"
   ]
  },
  {
   "cell_type": "code",
   "execution_count": 41,
   "id": "e51f8e66",
   "metadata": {},
   "outputs": [
    {
     "name": "stdout",
     "output_type": "stream",
     "text": [
      "6067231.979999998\n",
      "50\n",
      "10551254.890000002\n",
      "50\n",
      "5600631.960000001\n",
      "50\n"
     ]
    }
   ],
   "source": [
    "x1_mean=findmean(x1)\n",
    "x2_mean=findmean(x2)\n",
    "y_mean=findmean(y)"
   ]
  },
  {
   "cell_type": "code",
   "execution_count": 42,
   "id": "fd722e47",
   "metadata": {},
   "outputs": [
    {
     "name": "stdout",
     "output_type": "stream",
     "text": [
      "b0:  24167.563316090476\n",
      "b1:  0.29117738272325405\n",
      "b2:  0.24884367719831013\n"
     ]
    }
   ],
   "source": [
    "b0,b1,b2=find_slope_intercepts(x1,x2,y,x1_mean,x2_mean,y_mean)\n",
    "print(\"b0: \",b0)\n",
    "print(\"b1: \",b1)\n",
    "print(\"b2: \",b2)"
   ]
  },
  {
   "cell_type": "code",
   "execution_count": 45,
   "id": "1439cd8b",
   "metadata": {},
   "outputs": [
    {
     "name": "stdout",
     "output_type": "stream",
     "text": [
      "Multiple Linear Regression Model: \n",
      "y_pred= 24167.563316090476 + 0.29117738272325405 x1 + 0.24884367719831013 x2\n"
     ]
    }
   ],
   "source": [
    "print(\"Multiple Linear Regression Model: \")\n",
    "print(\"y_pred=\",b0,\"+\",b1,\"x1\",\"+\",b2,\"x2\")"
   ]
  },
  {
   "cell_type": "markdown",
   "id": "ddd25c2a",
   "metadata": {},
   "source": [
    "# Gradient Descent "
   ]
  },
  {
   "cell_type": "code",
   "execution_count": 50,
   "id": "80a982a9",
   "metadata": {},
   "outputs": [],
   "source": [
    "import numpy as np\n",
    "\n",
    "class GradientDescentMLR:\n",
    "    def __init__(self, learning_rate=0.01, iters=10) -> None:\n",
    "        self.learning_rate = learning_rate\n",
    "        self.iters = iters\n",
    "\n",
    "    def fit(self, X1, X2, Y):\n",
    "        ones = np.ones(len(X1))\n",
    "        features = np.c_[ones, X1, X2]\n",
    "        known_labels = np.array(Y).reshape((len(Y),1))\n",
    "        weights = np.zeros(features.shape[1])\n",
    "        temp = weights\n",
    "        for i in range(self.iters):\n",
    "            temp[0] = weights[0] - (self.learning_rate/len(X1)) * np.sum((features @ weights) - known_labels.transpose())\n",
    "            for j in range(1, len(weights)):\n",
    "                temp[j] = weights[j] - (self.learning_rate/len(X1)) * ((features @ weights) - known_labels.transpose()) @ features.transpose()[j]\n",
    "            for k in range(len(weights)):\n",
    "                weights[k] = temp[k]\n",
    "                print(f\"For iteration {i+1}: \\nb_{k} = {weights[k]}\\n\")\n",
    "\n",
    "object = GradientDescentMLR()\n",
    "X1 = np.array([2.75, 2.5, 2.25, 2, 2, 2, 1.75, 1.75])\n",
    "X2 = np.array([5.3, 5.3, 5.5, 5.7, 5.9, 6, 5.9, 6.1])\n",
    "y = np.array([1464, 1394, 1159, 1130, 1075, 1047, 965, 719])\n",
    "object.fit(X1,X2,y)"
   ]
  },
  {
   "cell_type": "code",
   "execution_count": 51,
   "id": "251ce099",
   "metadata": {},
   "outputs": [
    {
     "name": "stdout",
     "output_type": "stream",
     "text": [
      "Iteration 1: Cost 2612.125, Weight         0.9125, Bias 0.08875\n",
      "Iteration 2: Cost 1840.6763140624998, Weight         1.67493125, Bias 0.163635\n",
      "Iteration 3: Cost 1302.005232581096, Weight         2.31196293125, Bias 0.22693376124999998\n",
      "Iteration 4: Cost 925.871456044458, Weight         2.8442089670375, Bias 0.28055044975875\n",
      "Iteration 5: Cost 663.2295941170923, Weight         3.288894648664006, Bias 0.32607621435366996\n",
      "Iteration 6: Cost 479.83363233031446, Weight         3.660413677716468, Bias 0.3648406421950025\n",
      "Iteration 7: Cost 351.7712417354, Weight         3.9707936386157585, Bias 0.3979547557448655\n",
      "Iteration 8: Cost 262.3456041853296, Weight         4.230084954185217, Bias 0.4263469416541394\n",
      "Iteration 9: Cost 199.89814234552153, Weight         4.446685902528214, Bias 0.45079297345805286\n",
      "Iteration 10: Cost 156.28823778710944, Weight         4.627614205814245, Bias 0.4719410989732135\n",
      "Iteration 11: Cost 125.83169195535433, Weight         4.778733973781925, Bias 0.49033300368805344\n",
      "Iteration 12: Cost 104.55950501151743, Weight         4.9049453410001504, Bias 0.5064213280739485\n",
      "Iteration 13: Cost 89.70031709134449, Weight         5.010342930496017, Bias 0.5205843053027983\n",
      "Iteration 14: Cost 79.31902216817494, Weight         5.0983482682456245, Bias 0.5331379927347525\n",
      "Iteration 15: Cost 72.06442966222062, Weight         5.171820430630566, Bias 0.5443464927255987\n",
      "Iteration 16: Cost 66.99306879570969, Weight         5.2331485030469, Bias 0.5544304932806889\n",
      "Iteration 17: Cost 63.44615973002679, Weight         5.284328839651045, Bias 0.563574404748424\n",
      "Iteration 18: Cost 60.963708484977786, Weight         5.327029622716698, Bias 0.5719323233441614\n",
      "Iteration 19: Cost 59.22452359240586, Weight         5.362644809363714, Bias 0.5796330143567227\n",
      "Iteration 20: Cost 58.00433263816305, Weight         5.392339210222078, Bias 0.5867840761875535\n",
      "Iteration 21: Cost 57.14653707720183, Weight         5.417086157813066, Bias 0.5934754198818472\n",
      "Iteration 22: Cost 56.54179174107999, Weight         5.437698982791309, Bias 0.5997821766748874\n",
      "Iteration 23: Cost 56.11374619965744, Weight         5.454857315946202, Bias 0.605767127579668\n",
      "Iteration 24: Cost 55.80908864635821, Weight         5.469129066533276, Bias 0.6114827335853157\n",
      "Iteration 25: Cost 55.590594026712125, Weight         5.480988787684573, Bias 0.6169728321201459\n",
      "Iteration 26: Cost 55.432269884092705, Weight         5.490833022810185, Bias 0.622274054640637\n",
      "Iteration 27: Cost 55.31596693951149, Weight         5.498993129272515, Bias 0.627417011189203\n"
     ]
    },
    {
     "data": {
      "image/png": "[encoded data removed]",
      "text/plain": [
       "<Figure size 576x432 with 1 Axes>"
      ]
     },
     "metadata": {
      "needs_background": "light"
     },
     "output_type": "display_data"
    },
    {
     "name": "stdout",
     "output_type": "stream",
     "text": [
      "Estimated Weight: 5.498993129272515\n",
      "Estimated Bias: 0.627417011189203\n"
     ]
    }
   ],
   "source": [
    "# Data\n",
    "X = np.array([2,3,5,13,8,16,11,2])\n",
    "Y = np.array([15,28,42,64,50,90,58,8])\n",
    "estimated_weight, estimated_bias = gradient_descent(X, Y, iterations=2000)\n",
    "print(f\"Estimated Weight: {estimated_weight}\\nEstimated Bias: {estimated_bias}\")\n"
   ]
  },
  {
   "cell_type": "code",
   "execution_count": null,
   "id": "a60ab6f0",
   "metadata": {},
   "outputs": [],
   "source": []
  }
 ],
 "metadata": {
  "kernelspec": {
   "display_name": "Python 3 (ipykernel)",
   "language": "python",
   "name": "python3"
  },
  "language_info": {
   "codemirror_mode": {
    "name": "ipython",
    "version": 3
   },
   "file_extension": ".py",
   "mimetype": "text/x-python",
   "name": "python",
   "nbconvert_exporter": "python",
   "pygments_lexer": "ipython3",
   "version": "3.9.12"
  }
 },
 "nbformat": 4,
 "nbformat_minor": 5
}
